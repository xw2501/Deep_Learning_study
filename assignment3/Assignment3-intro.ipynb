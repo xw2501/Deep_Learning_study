{
 "cells": [
  {
   "cell_type": "markdown",
   "metadata": {},
   "source": [
    "# Assigment 3\n",
    "\n",
    "In this assignment, you will experiment with recurrent neural network(RNN).\n",
    "\n",
    "### Task 1: XOR net (40%)\n",
    "\n",
    "Create a RNN network which can correctly compute the XOR operation.\n",
    "\n",
    "### Task 2: RAM net (60%)\n",
    "\n",
    "In this task, you are going to implement part of the recurrent attention model (RAM) shown in this paper [\"Recurrent Models of Visual Attention\"](https://papers.nips.cc/paper/5542-recurrent-models-of-visual-attention.pdf) ."
   ]
  },
  {
   "cell_type": "markdown",
   "metadata": {
    "collapsed": true
   },
   "source": [
    "### Submission requirements\n",
    "\n",
    "1. Save code and results in .py and .ipynb.\n",
    "2. Please do not upload DATA files!\n",
    "3. No need to upload model file for this assignment."
   ]
  },
  {
   "cell_type": "code",
   "execution_count": null,
   "metadata": {
    "collapsed": true
   },
   "outputs": [],
   "source": []
  }
 ],
 "metadata": {
  "kernelspec": {
   "display_name": "Python 3",
   "language": "python",
   "name": "python3"
  },
  "language_info": {
   "codemirror_mode": {
    "name": "ipython",
    "version": 3
   },
   "file_extension": ".py",
   "mimetype": "text/x-python",
   "name": "python",
   "nbconvert_exporter": "python",
   "pygments_lexer": "ipython3",
   "version": "3.5.4"
  }
 },
 "nbformat": 4,
 "nbformat_minor": 2
}
