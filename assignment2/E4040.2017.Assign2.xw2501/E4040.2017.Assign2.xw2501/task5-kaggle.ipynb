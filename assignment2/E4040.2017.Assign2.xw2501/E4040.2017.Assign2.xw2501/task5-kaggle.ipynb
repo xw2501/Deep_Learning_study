{
 "cells": [
  {
   "cell_type": "markdown",
   "metadata": {},
   "source": [
    "# ECBM E4040 - Assignment 2- Task 5: Kaggle Open-ended Competition\n",
    "\n",
    "Kaggle is a platform for predictive modelling and analytics competitions in which companies and researchers post data and statisticians and data miners compete to produce the best models for predicting and describing the data.\n",
    "\n",
    "If you don't have a Kaggle account, feel free to join at [www.kaggle.com](https://www.kaggle.com). To let the TAs do the grading more conveniently, please use Lionmail to join Kaggle and use UNI as your username.\n",
    "\n",
    "Visit the website for this competition to join: \n",
    "[https://www.kaggle.com/t/8dd419892b1c49a3afb0cea385a7e677](https://www.kaggle.com/t/8dd419892b1c49a3afb0cea385a7e677)\n",
    "\n",
    "Details about this in-class competition is shown on the website above. Please read carefully.\n",
    "\n",
    "<span style=\"color:red\">__TODO__:</span>\n",
    "1. Train a custom model for the bottle dataset classification problem. You are free to use any methods taught in the class or found by yourself on the Internet (ALWAYS provide reference to the source). General training methods include:\n",
    "    * Dropout\n",
    "    * Batch normalization\n",
    "    * Early stopping\n",
    "    * l1-norm & l2-norm penalization\n",
    "2. You'll be given the test set to generate your predictions (70% public + 30% private, but you don't know which ones are public/private). Achieve 70% accuracy on the public test set. The accuracy will be shown on the public leaderboard once you submit your prediction .csv file. \n",
    "3. (A) Report your results on the Kaggle, for comparison with other students' optimization results (you should do this several times). (C) Save your best model, using BitBucket, at the same time when you (B) submit the homework files into Courseworks. See instructions below. \n",
    "\n",
    "__Hint__: You can start from what you implemented in task 4. Another classic classification model named 'VGG16' can also be easily implemented."
   ]
  },
  {
   "cell_type": "markdown",
   "metadata": {},
   "source": [
    "## HW Submission Details:\n",
    "There are three components to reporting the results of this task: \n",
    "\n",
    "**(A) Submission (possible several) of the .csv prediction file throught the Kaggle platform;**. You should start doing this VARY early, so that students can compare their work as they are making progress with model optimization.\n",
    "\n",
    "**(B) Editing and submitting the content of this Jupyter notebook, through Courseworks; **\n",
    "(i) The code for your CNN model and for the training function. The code should be stored in __./ecbm4040/neuralnets/kaggle.py__;\n",
    "(ii) Print out your training process and accuracy __within this notebook__;\n",
    "\n",
    "**(C) Submitting your best CNN model through instructor-owned private BitBucket repo.**\n",
    "\n",
    "**Description of (C):** \n",
    "For this task, you will be utilizing bitbucket to save your model for submission. Bitbucket provides Git code managment. For those who are not familiar with git operations, please check [Learn Git with Bitbucket Cloud](https://www.atlassian.com/git/tutorials/learn-git-with-bitbucket-cloud) as reference.\n",
    "**TAs will create a private Bitbucket repository for each student, with the write access. This repo will be owned by the instructors. Make sure to properly submit your model to that exact repository (submissions to your own private repository will not count)** Students need to populate the following file to provide instructors with bitbucket account information: https://docs.google.com/spreadsheets/d/1_7cZjyr34I2y-AD_0N5UaJ3ZnqdhYcvrdoTsYvOSd-g/edit#gid=0.\n",
    "\n",
    "<span style=\"color:red\">__Submission content:__ :</span>\n",
    "(i) Upload your best model with all the data output (for example, __MODEL.data-00000-of-00001, MODEL.meta, MODEL.index__) into the  BitBucket. Store your model in the folder named \"__KaggleModel__\" within the BitBucket repository. \n",
    "Remember to delete any intermediate results, **we only want your best model. Do not upload any data files**. The instructors will rerun the uploaded best model and verify against the score which you reported on the Kaggle.\n",
    "\n"
   ]
  },
  {
   "cell_type": "markdown",
   "metadata": {},
   "source": [
    "## Load Data"
   ]
  },
  {
   "cell_type": "code",
   "execution_count": 1,
   "metadata": {},
   "outputs": [
    {
     "name": "stderr",
     "output_type": "stream",
     "text": [
      "/home/ecbm4040/miniconda2/envs/dlenv/lib/python3.5/site-packages/sklearn/cross_validation.py:41: DeprecationWarning: This module was deprecated in version 0.18 in favor of the model_selection module into which all the refactored classes and functions are moved. Also note that the interface of the new CV iterators are different from that of this module. This module will be removed in 0.20.\n",
      "  \"This module will be removed in 0.20.\", DeprecationWarning)\n"
     ]
    },
    {
     "name": "stdout",
     "output_type": "stream",
     "text": [
      "file exists. Begin extracting...\n",
      "train data shape is  (13500, 64, 64, 3)\n",
      "test data shape is  (1500, 64, 64, 3)\n",
      "final test shape is  (3500, 64, 64, 3)\n"
     ]
    }
   ],
   "source": [
    "# load data\n",
    "# split train_128 into train data and test data\n",
    "# note that 'X_test' here means validation data, 'final_test' is the real test data\n",
    "from ecbm4040.neuralnets.kaggle import *\n",
    "import numpy as np\n",
    "import matplotlib.pyplot as plt\n",
    "%load_ext autoreload\n",
    "%autoreload 2\n",
    "\n",
    "X_train, y_train, X_test, y_test, final_test = load_data()\n",
    "\n",
    "X_train = compress_data(X_train)\n",
    "X_train = (X_train-np.mean(X_train, axis=0))/255\n",
    "X_test = compress_data(X_test)\n",
    "X_test = (X_test-np.mean(X_test, axis=0))/255\n",
    "final_test = compress_data(final_test)\n",
    "final_test = (final_test-np.mean(final_test, axis=0))/255\n",
    "\n",
    "X_train = X_train.reshape([-1, 3, 64, 64]).transpose((0, 2, 3, 1))\n",
    "X_test = X_test.reshape([-1, 3, 64, 64]).transpose((0, 2, 3, 1))\n",
    "final_test = final_test.reshape([-1, 3, 64, 64]).transpose((0, 2, 3, 1))\n",
    "\n",
    "np.random.seed(10)\n",
    "np.random.shuffle(X_train)\n",
    "np.random.seed(10)\n",
    "np.random.shuffle(y_train)\n",
    "\n",
    "print('train data shape is ', X_train.shape)\n",
    "print('test data shape is ', X_test.shape)\n",
    "\n",
    "final_label = np.zeros(final_test.shape[0])\n",
    "\n",
    "print('final test shape is ', final_test.shape)"
   ]
  },
  {
   "cell_type": "markdown",
   "metadata": {},
   "source": [
    "## Train your model here\n",
    "Training and saving models are all done in this process.\n",
    "For details, please check 'my_training' function in 'kaggle.py'."
   ]
  },
  {
   "cell_type": "code",
   "execution_count": 2,
   "metadata": {},
   "outputs": [
    {
     "name": "stdout",
     "output_type": "stream",
     "text": [
      "learning_rate=0.001\n",
      "number of batches for training: 27\n",
      "epoch 1 \n",
      "epoch 2 \n",
      "epoch 3 \n",
      "epoch 4 \n",
      "current accuracy! iteration:100 accuracy: 55.6%\n",
      "Best validation accuracy! iteration:100 accuracy: 55.6%\n",
      "epoch 5 \n",
      "epoch 6 \n",
      "epoch 7 \n",
      "epoch 8 \n",
      "current accuracy! iteration:200 accuracy: 60.13333333333333%\n",
      "Best validation accuracy! iteration:200 accuracy: 60.13333333333333%\n",
      "epoch 9 \n",
      "epoch 10 \n",
      "epoch 11 \n",
      "epoch 12 \n",
      "current accuracy! iteration:300 accuracy: 67.73333333333333%\n",
      "Best validation accuracy! iteration:300 accuracy: 67.73333333333333%\n",
      "epoch 13 \n",
      "epoch 14 \n",
      "epoch 15 \n",
      "current accuracy! iteration:400 accuracy: 69.53333333333333%\n",
      "Best validation accuracy! iteration:400 accuracy: 69.53333333333333%\n",
      "epoch 16 \n",
      "epoch 17 \n",
      "epoch 18 \n",
      "epoch 19 \n",
      "current accuracy! iteration:500 accuracy: 71.53333333333333%\n",
      "Best validation accuracy! iteration:500 accuracy: 71.53333333333333%\n",
      "epoch 20 \n",
      "Traning ends. The best valid accuracy is 71.53333333333333.\n"
     ]
    }
   ],
   "source": [
    "# training, testing, saving are all done in this function\n",
    "from ecbm4040.neuralnets.kaggle import *\n",
    "var = variables_vgg16()\n",
    "prediction = my_training(X_train, y_train, X_test, y_test, final_test, final_label, var)"
   ]
  },
  {
   "cell_type": "code",
   "execution_count": 4,
   "metadata": {
    "collapsed": true
   },
   "outputs": [],
   "source": [
    "import csv\n",
    "import os\n",
    "with open('predicted.csv','w') as csvfile:\n",
    "    fieldnames = ['Id','label']\n",
    "    writer = csv.DictWriter(csvfile, fieldnames=fieldnames)\n",
    "    writer.writeheader()    \n",
    "    for index,l in enumerate(prediction):\n",
    "        filename = str(index)+'.png'\n",
    "        label = str(l)\n",
    "        writer.writerow({'Id': filename, 'label': label})"
   ]
  },
  {
   "cell_type": "markdown",
   "metadata": {},
   "source": [
    "### Brief introduction of model\n",
    "\n",
    "The CNN model used here is developed from VGG16 model. It is like a simplyfied version VGG16. It has four convolution layers each one followed by a max pooling layer. And the it has a flatten layer, three dense layers and two dropout layers.\n",
    "\n",
    "Structure of model is shown below.\n",
    "    \n",
    "Model graph\n",
    "![Tensorboard_2](./ecbm4040/notebook_images/hw2_t5.png)\n",
    "\n",
    "Details of model:\n",
    "\n",
    "1. channels of each convolution layer is 64, 128, 256 and 512. \n",
    "\n",
    "    convolution layer1 (conv_layer1) -> 64\n",
    "    \n",
    "    convolution layer2 (conv_layer2) -> 128\n",
    "    \n",
    "    convolution layer3 (conv_layer3) -> 256\n",
    "    \n",
    "    convolution layer4 (conv_layer4) -> 512\n",
    "    \n",
    "   strides are all [1, 1], window size are all [3, 3]\n",
    "2. strides of all max pooling layers are [2, 2], window size of all max pooling layers are [2, 2]\n",
    "3. dense layer1 (fc_layer1) has 4096 features output and the activation function is 'relu'\n",
    "\n",
    "   dense layer2 (fc_layer2) has 1000 features output and the activation function is 'relu'\n",
    "   \n",
    "   dense layer3 (fc_layer3) has 5 features output and it has no activation function\n",
    "4. both dropout layers have a keep probability 0.5\n",
    "\n",
    "A bigger and clearer version of model graph\n",
    "![Tensorboard_2](./ecbm4040/notebook_images/hw2_t5_1.png)\n",
    "here the conv_layer4 is connected to the max pooling layer above\n",
    "![Tensorboard_2](./ecbm4040/notebook_images/hw2_t5_2.png)\n",
    "\n",
    "reference:\n",
    "\n",
    "https://yq.aliyun.com/articles/178374\n",
    "\n",
    "https://www.cs.toronto.edu/~frossard/post/vgg16/\n",
    "\n",
    "https://gist.github.com/baraldilorenzo/07d7802847aaad0a35d3"
   ]
  }
 ],
 "metadata": {
  "kernelspec": {
   "display_name": "Python 3",
   "language": "python",
   "name": "python3"
  },
  "language_info": {
   "codemirror_mode": {
    "name": "ipython",
    "version": 3
   },
   "file_extension": ".py",
   "mimetype": "text/x-python",
   "name": "python",
   "nbconvert_exporter": "python",
   "pygments_lexer": "ipython3",
   "version": "3.5.4"
  }
 },
 "nbformat": 4,
 "nbformat_minor": 2
}
