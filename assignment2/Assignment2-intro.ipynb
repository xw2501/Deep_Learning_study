{
 "cells": [
  {
   "cell_type": "markdown",
   "metadata": {},
   "source": [
    "# ECBM4040 2017 Assignment 2"
   ]
  },
  {
   "cell_type": "markdown",
   "metadata": {},
   "source": [
    "## Task 1: Optimizers (15%)\n",
    "\n",
    "Complete **task1-optimization.ipynb**. Previously, we have covered the Stochastic Gradient Descent (SGD) optimization method. In this task, more complex methods will be covered, and you will implement them in numpy: SGD with Momentum, RMSprop and Adam."
   ]
  },
  {
   "cell_type": "markdown",
   "metadata": {},
   "source": [
    "## Task 2: Regularization (20%)\n",
    "\n",
    "Complete **task2-regularization.ipynb**. To efficienlty train a good neural network, using a suitable optimizer is important but not enough. Other important considerations include how to select good initialization values for ANN parameters, and how to avoid overfitting. This task addresses some of the regularization methods, such as **Dropout** and **Batch Normalization**. You are going to implement them in numpy."
   ]
  },
  {
   "cell_type": "markdown",
   "metadata": {},
   "source": [
    "## Task 3: Convolutional Neural Network (CNN) (30%)\n",
    "\n",
    "Complete **task3-cnn.ipynb**. In contrast to the Multi-Layer Perceptron (ML) or fully-connected (FC) nets, Convolutional Neural Netwworks are a more powerful tool often used in the field of computer vision. In this task, you are going to create a CNN using Tensorflow."
   ]
  },
  {
   "cell_type": "markdown",
   "metadata": {},
   "source": [
    "## Task 4: Data Augmentation (15%)\n",
    "\n",
    "Complete **task4-augmentation.ipynb**. Data augmentation is very useful for CNNs. It can enrich the collected datasets by enlarging them using the operations on the original data samples. It can promote the performance of networks. You are  asked to write a data generator which does several augmentations."
   ]
  },
  {
   "cell_type": "markdown",
   "metadata": {},
   "source": [
    "## Task 5: Bottle Kaggle Competition (20%)\n",
    "\n",
    "Do the task described in the **task5-kaggle.ipynb**. This requires you to join an in-class Kaggle competition and compete with your classmates on the \"bottle classification problem\". You need to keep updating your CNN in iterations to get the best possible result. Kaggle will enable you to observe the progress made by students in the class. You can use any of the deep learning modelling techiques (such as regularization and optimization). You have to use TensorFlow to build your model."
   ]
  },
  {
   "cell_type": "markdown",
   "metadata": {},
   "source": [
    "## Submission Requirements\n",
    "\n",
    "1. Students need to submit all the student-edited code and Jupyter notebooks, within the directory structure provided in the assignment. Create a .zip file named 'E4040.2017.Assign2.YOUR_UNI.zip' and upload it through the Courseworks.\n",
    "\n",
    "2. For task 5 (Kaggle competition), there are several submission components. Detailed submission requirements can be found in the corresponding Jupyter Notebook."
   ]
  },
  {
   "cell_type": "code",
   "execution_count": null,
   "metadata": {
    "collapsed": true
   },
   "outputs": [],
   "source": []
  }
 ],
 "metadata": {
  "kernelspec": {
   "display_name": "Python 3",
   "language": "python",
   "name": "python3"
  },
  "language_info": {
   "codemirror_mode": {
    "name": "ipython",
    "version": 3
   },
   "file_extension": ".py",
   "mimetype": "text/x-python",
   "name": "python",
   "nbconvert_exporter": "python",
   "pygments_lexer": "ipython3",
   "version": "3.5.4"
  }
 },
 "nbformat": 4,
 "nbformat_minor": 2
}
