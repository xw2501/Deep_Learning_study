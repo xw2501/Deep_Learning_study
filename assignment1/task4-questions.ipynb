{
 "cells": [
  {
   "cell_type": "markdown",
   "metadata": {},
   "source": [
    "# ECBM4040 Assignment 1, Task 4: Questions\n",
    "\n",
    "1) What is the difference between the SVM method and a neural network, assuming that both work with the same number of training samples N?\n",
    "\n",
    "   Your answer: \n",
    "   \n",
    "       For one difference, SVM is a supervised learning process and neural network is not, thus the steps of their learning process is different. For example, if the training data is not linearly separable, you will need to tranform it into another space where the training data is separable so that you could use SVM. While in neural network you do not need to do that.\n",
    "   \n",
    "       For another, SVM is tring to find a boundary with a maximum margin, that is the distance to the closest data point is the maximum value. And in neural network, the boundary is not a maximum margin boundary. It could separate the data points but sometimes it has a bigger chance to misclassify test points.\n",
    "\n",
    "\n",
    "2) Why is the ReLU activation function used the most often in neural networks for computer vision?\n",
    "\n",
    "   Your answer: \n",
    "   \n",
    "       ReLU activation is fast, which makes it suit for real time computer vision tasks.\n",
    "   \n",
    "       In feedforward process, ReLU activation simply set all negative value to zero. And in backward process, the gradients are either one or zero. Thus, this activation is fast.\n",
    "   \n",
    "\n",
    "3) Describe your best model in the implementation of the two-layer neural network. Describe your starting point, how you tuned  the hyperparameters, which stategies you did you use to improve the network, show the results of intermediate and final steps.\n",
    "\n",
    "   Your answer: \n",
    "   \n",
    "       There are a lot of parameters I could change in this MLP task. At first, I tried to use a series of iterations to serch a set of parameters with best performance. But during the process, I found that it takes a really long time to finish the iteration as there are too many parameters and the outcomes are very close. Thus I decided to only test three parameters which are 'hidden_dimensions[1]', 'reg' and 'weight_scale'.\n",
    "   \n",
    "       I choose three candidate value for each of them. For 'hidden_dimensions[1]' these are 50, 75, 100. For 'reg' these are 0.25, 0.15, 0.1. For 'weight_scale' these are 1.1e-3, 1e-3, 0.9e-3. And there are 3x3x3 = 27 possible combinations. \n",
    "   \n",
    "       After examining all the combinations, the combination with highest accuracy is hidden_dimensions[1] = 50, reg = 0.1, weight_scale = 1e-3 with an accuracy of 18.5%\n",
    "\n",
    "4) **Cross validation** is a technique used to prove the generalization ability of a model and can help you find a robust set of hyperparameters. Please describe the implementation details of **k-fold cross validation** if you want to use it to find a best set of hyperparameter of the **Linear SVM classification** problem.\n",
    "\n",
    "   Your answer:\n",
    "   \n",
    "       To implement a k-fold cross validation, what we need to do is:\n",
    "        \n",
    "       First, randomly select part of the dataset as test data.\n",
    "      \n",
    "       Second, devide the rest of dataset into k batches.\n",
    "      \n",
    "       Third, use k-1 of the batches as training data and 1 batch as validation data. And as there are k batches left, we could repeat this process for k times and use a different batch as validation data each time.\n",
    "      \n",
    "       With this procedure, we could achieve a k-fold cross validation."
   ]
  }
 ],
 "metadata": {
  "kernelspec": {
   "display_name": "Python 3",
   "language": "python",
   "name": "python3"
  },
  "language_info": {
   "codemirror_mode": {
    "name": "ipython",
    "version": 3
   },
   "file_extension": ".py",
   "mimetype": "text/x-python",
   "name": "python",
   "nbconvert_exporter": "python",
   "pygments_lexer": "ipython3",
   "version": "3.5.4"
  }
 },
 "nbformat": 4,
 "nbformat_minor": 2
}
