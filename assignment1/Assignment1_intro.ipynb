{
 "cells": [
  {
   "cell_type": "markdown",
   "metadata": {
    "collapsed": true
   },
   "source": [
    "# ECBM 4040 - Assignment 1"
   ]
  },
  {
   "cell_type": "markdown",
   "metadata": {},
   "source": [
    "This assignment consists of 3 programming tasks covering __basic classification problems, multi-layer-perceptron (MLP) and a dimension reduction practice.__ Task 4 contains several non-programming questions. For those who are not familiar with Python programming or machine learning, we suggest that you start the assignment as soon as possible. \n",
    "\n",
    "In this notebook, we provide the skeleton code. You need to fill in the <span style=\"color:red\"><strong>TODO</strong></span> sections with code, run them and capture the results within your copy of the notebook which includes the solutions. So pay attention to any <span style=\"color:red\"><strong>TODOs</strong></span>.\n",
    "\n",
    "\n",
    "## Task 1: basic_classifers.ipynb (25%)\n",
    "Experiments with two classic classification methods: Linear Support Vector Machine (SVM) classifier and Softmax classifier. \n",
    "\n",
    "## Task 2: mlp.ipynb (45%)\n",
    "In this task, you are going to create a multi-layer-perceptron (MLP). It is designed to help you understand how backpropagation works.\n",
    "\n",
    "## Task 3: dim_reduction.ipynb (20%)\n",
    "In this task, you will work on the dimensionality reduction. Two methods will be introduced - principle component analysis (PCA) and t-distributed stochastic neighbor embedding (tSNE).\n",
    "\n",
    "## Task 4: Questions (10%)\n",
    "In this task, you need to answer questions related to above programming tasks and machine learning basics.\n",
    "\n",
    "## Submission Requirements\n",
    "\n",
    "1. Print or plot your results in the form of cell outputs of the Jupyter notebook, and save them.\n",
    "\n",
    "2. For task 2 (MLP), save your best model as a **.pkl** file in the directory  **./save_models/**. \n",
    "\n",
    "3. <span style=\"color:red\">Don't upload any dataset files!</span> \n",
    "\n",
    "4. The method of homework submission upload will be announced in the due course. \n"
   ]
  }
 ],
 "metadata": {
  "kernelspec": {
   "display_name": "Python 3",
   "language": "python",
   "name": "python3"
  },
  "language_info": {
   "codemirror_mode": {
    "name": "ipython",
    "version": 3
   },
   "file_extension": ".py",
   "mimetype": "text/x-python",
   "name": "python",
   "nbconvert_exporter": "python",
   "pygments_lexer": "ipython3",
   "version": "3.5.4"
  }
 },
 "nbformat": 4,
 "nbformat_minor": 2
}
